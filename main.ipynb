{
 "cells": [
  {
   "cell_type": "code",
   "execution_count": null,
   "metadata": {},
   "outputs": [],
   "source": [
    "import h5py\n",
    "import pandas as pd\n",
    "import tensorflow as tf\n",
    "import numpy as np\n",
    "import os\n",
    "import time\n",
    "import matplotlib.pyplot as plt\n",
    "from sklearn.model_selection import train_test_split"
   ]
  },
  {
   "cell_type": "code",
   "execution_count": null,
   "metadata": {},
   "outputs": [],
   "source": [
    "with h5py.File('train.h5', mode='r') as f:\n",
    "    print(f['matrix'].shape)\n",
    "    data_len = f['matrix'].shape[0]\n",
    "\n",
    "with h5py.File('valid.h5', mode='r') as f:\n",
    "    valid_data_len = f['matrix'].shape[0]"
   ]
  },
  {
   "cell_type": "code",
   "execution_count": null,
   "metadata": {},
   "outputs": [],
   "source": [
    "epochs = 500\n",
    "load_batch = 1024\n",
    "batch = 4\n",
    "iter_train = data_len // batch\n",
    "iter_valid = valid_data_len // batch"
   ]
  },
  {
   "cell_type": "code",
   "execution_count": null,
   "metadata": {},
   "outputs": [],
   "source": [
    "def generator(file):\n",
    "    with h5py.File(file, mode='r') as src:\n",
    "        data_len = src['matrix'].shape[0]\n",
    "        batch_indexes = np.array(list(range(int(np.ceil(data_len / load_batch)))))\n",
    "        for e in range(epochs):\n",
    "            np.random.shuffle(batch_indexes)\n",
    "            for i in batch_indexes:\n",
    "                slc = slice(i, i + load_batch if i + load_batch < data_len else data_len)\n",
    "                with tf.device('/GPU:0'):\n",
    "                    # seleciona somente canais de infravermelho e microondas\n",
    "                    images = src['matrix'][slc, :, :, [0, 2]]\n",
    "                    # images = src['matrix'][slc]\n",
    "                    images = np.nan_to_num(images, copy=False)\n",
    "                    images[images > 1000] = 0.0\n",
    "                    avgs = tf.math.reduce_mean(images, axis=[0, 1, 2])\n",
    "                    stds = tf.math.reduce_std(images, axis=[0, 1, 2])\n",
    "                    norm = (images - avgs) / stds\n",
    "                    img_height = img_width = 201\n",
    "                    img_crop_w = 64\n",
    "                    st1 = (img_height // 2 - img_crop_w // 2)\n",
    "                    height_crop = slice(st1, st1 + img_crop_w)\n",
    "                    st2 = (img_width // 2 - img_crop_w // 2)\n",
    "                    width_crop = slice(st2, st2 + img_crop_w)\n",
    "                    norm = norm[:, height_crop, width_crop, :]\n",
    "                info = src['info'][slc]\n",
    "                info = tf.convert_to_tensor(info)\n",
    "                for j in range(norm.shape[0]):\n",
    "                    yield norm[j], tf.expand_dims(info[j], axis=0)"
   ]
  },
  {
   "cell_type": "code",
   "execution_count": null,
   "metadata": {},
   "outputs": [],
   "source": [
    "train_generator = generator('train.h5')\n",
    "valid_generator = generator('valid.h5')\n",
    "test_generator = generator('test.h5')\n",
    "\n",
    "img_w = 64\n",
    "output_signature = (\n",
    "    tf.TensorSpec(shape=(img_w, img_w, 3), dtype=tf.float32),\n",
    "    tf.TensorSpec(shape=(1,), dtype=tf.float32)\n",
    ")\n",
    "\n",
    "train_ds = tf.data.Dataset.from_generator(\n",
    "    lambda: train_generator,\n",
    "    output_signature=output_signature\n",
    ").batch(1)\n",
    "\n",
    "valid_ds = tf.data.Dataset.from_generator(\n",
    "    lambda: valid_generator,\n",
    "    output_signature=output_signature\n",
    ").batch(1)\n",
    "\n",
    "test_ds = tf.data.Dataset.from_generator(\n",
    "    lambda: test_generator,\n",
    "    output_signature=output_signature\n",
    ").batch(1)"
   ]
  },
  {
   "cell_type": "code",
   "execution_count": null,
   "metadata": {},
   "outputs": [],
   "source": [
    "\n",
    "from tensorflow import keras\n",
    "\n",
    "def build_model(input_shape, strides=(2, 2)):\n",
    "    initializer = keras.initializers.RandomNormal(mean=0.0, stddev=0.01)\n",
    "    reg = keras.regularizers.L2(1e-5)\n",
    "    model = keras.models.Sequential()\n",
    "    model.add(keras.layers.Input(input_shape))\n",
    "    model.add(keras.layers.Conv2D(16, (4, 4), strides=strides, activation='relu', kernel_initializer=initializer, bias_initializer=initializer, kernel_regularizer=reg, bias_regularizer=reg))\n",
    "    model.add(keras.layers.Conv2D(32, (3, 3), strides=strides, activation='relu', kernel_initializer=initializer, bias_initializer=initializer, kernel_regularizer=reg, bias_regularizer=reg))\n",
    "    model.add(keras.layers.Conv2D(64, (3, 3), strides=strides, activation='relu', kernel_initializer=initializer, bias_initializer=initializer, kernel_regularizer=reg, bias_regularizer=reg))\n",
    "    model.add(keras.layers.Conv2D(128, (3, 3), strides=strides, activation='relu', kernel_initializer=initializer, bias_initializer=initializer, kernel_regularizer=reg, bias_regularizer=reg))\n",
    "    \n",
    "    model.add(keras.layers.Flatten())\n",
    "    \n",
    "    model.add(keras.layers.Dense(256, activation='relu', kernel_initializer=initializer, kernel_regularizer=reg, bias_initializer=initializer, bias_regularizer=reg))\n",
    "    model.add(keras.layers.Dense(64, activation='relu', kernel_initializer=initializer, kernel_regularizer=reg, bias_initializer=initializer, bias_regularizer=reg))\n",
    "    model.add(keras.layers.Dense(1, activation='linear', kernel_initializer=initializer, kernel_regularizer=reg, bias_initializer=initializer, bias_regularizer=reg))\n",
    "\n",
    "    model.compile(optimizer=keras.optimizers.Adam(learning_rate=.0005), loss='mse', metrics=['mse'])\n",
    "    return model"
   ]
  },
  {
   "cell_type": "code",
   "execution_count": null,
   "metadata": {},
   "outputs": [],
   "source": [
    "model = build_model((64, 64, 3),)\n",
    "model.summary()"
   ]
  },
  {
   "cell_type": "code",
   "execution_count": null,
   "metadata": {},
   "outputs": [],
   "source": [
    "with tf.device('/GPU:0'):\n",
    "    model.fit(\n",
    "        train_ds,\n",
    "        validation_data=valid_ds,\n",
    "        epochs=epochs,\n",
    "        steps_per_epoch=iter_train,\n",
    "        validation_steps=iter_valid\n",
    "    )\n",
    "\n",
    "model.save('result.h5')"
   ]
  }
 ],
 "metadata": {
  "kernelspec": {
   "display_name": "test_env",
   "language": "python",
   "name": "python3"
  },
  "language_info": {
   "codemirror_mode": {
    "name": "ipython",
    "version": 3
   },
   "file_extension": ".py",
   "mimetype": "text/x-python",
   "name": "python",
   "nbconvert_exporter": "python",
   "pygments_lexer": "ipython3",
   "version": "3.6.3"
  }
 },
 "nbformat": 4,
 "nbformat_minor": 2
}
