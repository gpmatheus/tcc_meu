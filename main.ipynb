{
 "cells": [
  {
   "cell_type": "code",
   "execution_count": 1,
   "metadata": {},
   "outputs": [],
   "source": [
    "import h5py\n",
    "import tensorflow as tf\n",
    "import numpy as np\n",
    "import pandas as pd\n",
    "import matplotlib.pyplot as plt\n",
    "import random\n",
    "from sklearn.model_selection import train_test_split"
   ]
  },
  {
   "cell_type": "code",
   "execution_count": 2,
   "metadata": {},
   "outputs": [],
   "source": [
    "def clean_images(images):\n",
    "    images = np.nan_to_num(images, copy=False)\n",
    "    images[images > 1000] = 0\n",
    "    return images"
   ]
  },
  {
   "cell_type": "code",
   "execution_count": 3,
   "metadata": {},
   "outputs": [],
   "source": [
    "def cut_images(images, width):\n",
    "    start = images.shape[1] // 2 - width // 2\n",
    "    end = images.shape[1] // 2 + width // 2\n",
    "    return images[:, start:end, start:end, :]"
   ]
  },
  {
   "cell_type": "code",
   "execution_count": 4,
   "metadata": {},
   "outputs": [],
   "source": [
    "train_path, valid_path, test_path = 'train.h5', 'valid.h5', 'test.h5'\n",
    "channels = [0, 3]"
   ]
  },
  {
   "cell_type": "code",
   "execution_count": 5,
   "metadata": {},
   "outputs": [],
   "source": [
    "def split_data(path, train_dest, valid_dest, test_dest, channels=[0, 1, 2, 3], batch=1024):\n",
    "\n",
    "    # abre o arquivo com os dados e os arquivos de destino\n",
    "    with h5py.File(path, 'r') as srcf, \\\n",
    "            h5py.File(train_dest, 'w') as train_w, \\\n",
    "            h5py.File(valid_dest, 'w') as valid_w, \\\n",
    "            h5py.File(test_dest, 'w') as test_w:\n",
    "        \n",
    "        images = srcf['matrix']\n",
    "        info = pd.read_hdf(path, key='info', mode='r')\n",
    "\n",
    "        # recupera o tamanho dos dados\n",
    "        data_len = info.shape[0]\n",
    "\n",
    "        # itera sobre todos os dados em chuncks\n",
    "        for chunck in range(0, data_len, batch):\n",
    "            # seleciona o chunck\n",
    "            chunck_slc = slice(chunck, chunck + batch if chunck + batch < data_len else data_len)\n",
    "\n",
    "            # lê os dados do chunck\n",
    "            img_chunck = images[chunck_slc]\n",
    "            info_chunck = info[chunck_slc]\n",
    "            info_chunck = info_chunck['Vmax']\n",
    "\n",
    "            # seleciona os canais\n",
    "            img_chunck = img_chunck[:, :, :, channels]\n",
    "            \n",
    "            img_new_shape = img_chunck.shape[1:]\n",
    "\n",
    "            # separa os dados\n",
    "            train_img, test_img, train_info, test_info = train_test_split(img_chunck, info_chunck, test_size=.3)\n",
    "            test_img, valid_img, test_info, valid_info = train_test_split(test_img, test_info, test_size=.5)\n",
    "\n",
    "            # escreve no arquivo de treinamento\n",
    "            if 'matrix' not in train_w:\n",
    "                train_w.create_dataset('matrix', shape=(0,) + img_new_shape, maxshape=(None,) + img_new_shape)\n",
    "            train_w['matrix'].resize(train_w['matrix'].shape[0] + train_img.shape[0], axis=0)\n",
    "            train_w['matrix'][-train_img.shape[0]:] = train_img\n",
    "            if 'info' not in train_w:\n",
    "                train_w.create_dataset('info', shape=(0,), maxshape=(None,))\n",
    "            train_w['info'].resize(train_w['info'].shape[0] + train_info.shape[0], axis=0)\n",
    "            train_w['info'][-train_info.shape[0]:] = train_info\n",
    "\n",
    "            # escreve no arquivo de validação\n",
    "            if 'matrix' not in valid_w:\n",
    "                valid_w.create_dataset('matrix', shape=(0,) + img_new_shape, maxshape=(None,) + img_new_shape)\n",
    "            valid_w['matrix'].resize(valid_w['matrix'].shape[0] + valid_img.shape[0], axis=0)\n",
    "            valid_w['matrix'][-valid_img.shape[0]:] = valid_img\n",
    "            if 'info' not in valid_w:\n",
    "                valid_w.create_dataset('info', shape=(0,), maxshape=(None,))\n",
    "            valid_w['info'].resize(valid_w['info'].shape[0] + valid_info.shape[0], axis=0)\n",
    "            valid_w['info'][-valid_info.shape[0]:] = valid_info\n",
    "\n",
    "            # escreve no arquivo de teste\n",
    "            if 'matrix' not in test_w:\n",
    "                test_w.create_dataset('matrix', shape=(0,) + img_new_shape, maxshape=(None,) + img_new_shape)\n",
    "            test_w['matrix'].resize(test_w['matrix'].shape[0] + test_img.shape[0], axis=0)\n",
    "            test_w['matrix'][-test_img.shape[0]:] = test_img\n",
    "            if 'info' not in test_w:\n",
    "                test_w.create_dataset('info', shape=(0,), maxshape=(None,))\n",
    "            test_w['info'].resize(test_w['info'].shape[0] + test_info.shape[0], axis=0)\n",
    "            test_w['info'][-test_info.shape[0]:] = test_info\n",
    "\n",
    "split_data('TCIR-ATLN_EPAC_WPAC.h5', train_path, valid_path, test_path, channels=channels)"
   ]
  },
  {
   "cell_type": "code",
   "execution_count": null,
   "metadata": {},
   "outputs": [],
   "source": [
    "with h5py.File(train_path, mode='r') as trainsrc, h5py.File(valid_path, mode='r') as validsrc, \\\n",
    "        h5py.File(test_path, mode='r') as testsrc:\n",
    "    data_len = trainsrc['matrix'].shape[0]\n",
    "    valid_data_len = validsrc['matrix'].shape[0]\n",
    "    test_data_len = testsrc['matrix'].shape[0]\n",
    "    print('Dataset de treino: ', trainsrc['matrix'].shape)\n",
    "    print('Dataset de validação: ', validsrc['matrix'].shape)\n",
    "    print('Dataset de teste: ', testsrc['matrix'].shape)"
   ]
  },
  {
   "cell_type": "code",
   "execution_count": null,
   "metadata": {},
   "outputs": [],
   "source": [
    "with h5py.File(train_path, mode='r') as f:\n",
    "    img = f['matrix'][np.random.randint(0, data_len)]\n",
    "    plt.imshow(img[:, :, 1])"
   ]
  },
  {
   "cell_type": "code",
   "execution_count": null,
   "metadata": {},
   "outputs": [],
   "source": [
    "def get_mean(file, batch=1024):\n",
    "    with h5py.File(file, mode='r') as src:\n",
    "        images = src['matrix']\n",
    "        data_len = images.shape[0]\n",
    "        img_h, img_w = images.shape[1], images.shape[2]\n",
    "        accumulators = np.zeros(images.shape[-1])\n",
    "        for i in range(0, data_len, batch):\n",
    "            chunck = images[i: i + batch if i + batch < data_len else data_len]\n",
    "            chunck = clean_images(chunck)\n",
    "            for j in range(accumulators.shape[0]):\n",
    "                accumulators[j] += np.sum(chunck[:, :, :, j])\n",
    "    means = accumulators / (data_len * img_h * img_w)\n",
    "    return means\n",
    "\n",
    "mean = get_mean(train_path)\n",
    "print(mean)"
   ]
  },
  {
   "cell_type": "code",
   "execution_count": null,
   "metadata": {},
   "outputs": [],
   "source": [
    "def get_std(file, mean, batch=1024):\n",
    "    with h5py.File(file, mode='r') as src:\n",
    "        images = src['matrix']\n",
    "        data_len = images.shape[0]\n",
    "        img_h, img_w = images.shape[1], images.shape[2]\n",
    "        accumulators = np.zeros(images.shape[-1])\n",
    "        for i in range(0, data_len, batch):\n",
    "            chunck = images[i: i + batch if i + batch < data_len else data_len]\n",
    "            chunck = clean_images(chunck)\n",
    "            for j in range(accumulators.shape[0]):\n",
    "                accumulators[j] += np.sum((chunck[:, :, :, j] - mean[j]) ** 2)\n",
    "    stds = accumulators / (data_len * img_h * img_w)\n",
    "    stds = np.sqrt(stds)\n",
    "    return stds\n",
    "\n",
    "std = get_std(train_path, mean)\n",
    "print(std)"
   ]
  },
  {
   "cell_type": "code",
   "execution_count": 10,
   "metadata": {},
   "outputs": [],
   "source": [
    "epochs = 500\n",
    "load_batch = 2048\n",
    "batch = 32\n",
    "iter_train = data_len // batch\n",
    "iter_valid = valid_data_len // batch\n",
    "img_w = 64\n",
    "processed_train, processed_valid, processed_test = '_train.h5', '_valid.h5', '_test.h5'"
   ]
  },
  {
   "cell_type": "code",
   "execution_count": 11,
   "metadata": {},
   "outputs": [],
   "source": [
    "\n",
    "def pre_process(file, dest, width, means, stds, batch=1024):\n",
    "    with h5py.File(file, mode='r') as src, h5py.File(dest, mode='w') as destf:\n",
    "        src_imgs = src['matrix']\n",
    "        data_len = src_imgs.shape[0]\n",
    "        for i in range(0, data_len, batch):\n",
    "            slc = slice(i, i + batch if i + batch < data_len else data_len)\n",
    "            img_chunck = src_imgs[slc]\n",
    "            img_chunck = cut_images(img_chunck, width)\n",
    "            img_chunck = clean_images(img_chunck)\n",
    "            for j, (m, s) in enumerate(zip(means, stds)):\n",
    "                img_chunck[:, :, :, j] -= m\n",
    "                img_chunck[:, :, :, j] /= s\n",
    "            \n",
    "            img_new_shape = img_chunck.shape[1:]\n",
    "            # escreve no arquivo novo\n",
    "            if 'matrix' not in destf:\n",
    "                destf.create_dataset('matrix', shape=(0,) + img_new_shape, maxshape=(None,) + img_new_shape)\n",
    "            destf['matrix'].resize(destf['matrix'].shape[0] + img_chunck.shape[0], axis=0)\n",
    "            destf['matrix'][-img_chunck.shape[0]:] = img_chunck\n",
    "\n",
    "            info_chunck = src['info'][slc]\n",
    "            if 'info' not in destf:\n",
    "                destf.create_dataset('info', shape=(0,), maxshape=(None,))\n",
    "            destf['info'].resize(destf['info'].shape[0] + info_chunck.shape[0], axis=0)\n",
    "            destf['info'][-info_chunck.shape[0]:] = info_chunck\n",
    "\n",
    "\n",
    "pre_process(train_path, processed_train, img_w, mean, std)\n",
    "pre_process(valid_path, processed_valid, img_w, mean, std)\n",
    "pre_process(test_path, processed_test, img_w, mean, std)\n"
   ]
  },
  {
   "cell_type": "code",
   "execution_count": null,
   "metadata": {},
   "outputs": [],
   "source": [
    "with h5py.File(processed_train, mode='r') as f:\n",
    "    img = f['matrix'][np.random.randint(0, data_len)]\n",
    "    plt.imshow(img[:, :, 1])"
   ]
  },
  {
   "cell_type": "code",
   "execution_count": 13,
   "metadata": {},
   "outputs": [],
   "source": [
    "def generator(file):\n",
    "    with h5py.File(file, mode='r') as src:\n",
    "        data_len = src['matrix'].shape[0]\n",
    "        indexes = list(range(data_len))\n",
    "        for e in range(epochs):\n",
    "            random.shuffle(indexes)\n",
    "            for i in range(0, data_len, load_batch):\n",
    "                load_indexes = indexes[i : i + load_batch]\n",
    "                load_indexes.sort()\n",
    "                images = src['matrix'][load_indexes]\n",
    "                info = src['info'][load_indexes]\n",
    "                shuffled_idx = np.random.permutation(images.shape[0])\n",
    "                images = images[shuffled_idx]\n",
    "                info = info[shuffled_idx]\n",
    "                for j in range(0, load_batch, batch):\n",
    "                    yield images[j : j + batch], info[j : j + batch]\n"
   ]
  },
  {
   "cell_type": "code",
   "execution_count": 14,
   "metadata": {},
   "outputs": [],
   "source": [
    "def full_gen(file):\n",
    "    with h5py.File(file, mode='r') as src:\n",
    "        images = src['matrix'][:]\n",
    "        info = src['info'][:]\n",
    "    data_len = images.shape[0]\n",
    "    indexes = list(range(data_len))\n",
    "    for e in range(epochs):\n",
    "        random.shuffle(indexes)\n",
    "        for i in range(0, data_len, batch):\n",
    "            batch_indexes = indexes[i : i + batch]\n",
    "            batch_images = images[batch_indexes]\n",
    "            batch_info = info[batch_indexes]\n",
    "            yield batch_images, batch_info"
   ]
  },
  {
   "cell_type": "code",
   "execution_count": 15,
   "metadata": {},
   "outputs": [],
   "source": [
    "def get_data(file):\n",
    "    with h5py.File(file, mode='r') as src:\n",
    "        images = src['matrix'][:]\n",
    "        info = src['info'][:]\n",
    "    return images, info"
   ]
  },
  {
   "cell_type": "code",
   "execution_count": 16,
   "metadata": {},
   "outputs": [],
   "source": [
    "train_generator = full_gen(processed_train)\n",
    "valid_generator = full_gen(processed_valid)\n",
    "test_generator = full_gen(processed_test)\n",
    "\n",
    "output_signature = (\n",
    "    tf.TensorSpec(shape=(None, img_w, img_w, len(channels)), dtype=tf.float32),\n",
    "    tf.TensorSpec(shape=(None,), dtype=tf.float32)\n",
    ")\n",
    "\n",
    "train_ds = tf.data.Dataset.from_generator(\n",
    "    lambda: train_generator,\n",
    "    output_signature=output_signature\n",
    ")\n",
    "\n",
    "valid_ds = tf.data.Dataset.from_generator(\n",
    "    lambda: valid_generator,\n",
    "    output_signature=output_signature\n",
    ")\n",
    "\n",
    "test_ds = tf.data.Dataset.from_generator(\n",
    "    lambda: test_generator,\n",
    "    output_signature=output_signature\n",
    ")"
   ]
  },
  {
   "cell_type": "code",
   "execution_count": 17,
   "metadata": {},
   "outputs": [],
   "source": [
    "\n",
    "from tensorflow import keras\n",
    "\n",
    "def build_model(input_shape, strides=(2, 2)):\n",
    "    initializer = keras.initializers.RandomNormal(mean=0.0, stddev=0.01)\n",
    "    # reg = keras.regularizers.L2(1e-5)\n",
    "    reg = keras.regularizers.L1(1e-5)\n",
    "    # reg = keras.regularizers.L1L2(1e-5)\n",
    "    model = keras.models.Sequential()\n",
    "    model.add(keras.layers.Input(input_shape))\n",
    "    model.add(keras.layers.Conv2D(16, (4, 4), strides=strides, activation='relu', kernel_initializer=initializer, kernel_regularizer=reg, bias_initializer=initializer, bias_regularizer=reg))\n",
    "    model.add(keras.layers.Conv2D(32, (3, 3), strides=strides, activation='relu', kernel_initializer=initializer, kernel_regularizer=reg, bias_initializer=initializer, bias_regularizer=reg))\n",
    "    model.add(keras.layers.Conv2D(64, (3, 3), strides=strides, activation='relu', kernel_initializer=initializer, kernel_regularizer=reg, bias_initializer=initializer, bias_regularizer=reg))\n",
    "    model.add(keras.layers.Conv2D(128, (3, 3), strides=strides, activation='relu', kernel_initializer=initializer, kernel_regularizer=reg, bias_initializer=initializer, bias_regularizer=reg))\n",
    "    \n",
    "    model.add(keras.layers.Flatten())\n",
    "    \n",
    "    model.add(keras.layers.Dense(256, activation='relu', kernel_initializer=initializer, kernel_regularizer=reg, bias_initializer=initializer, bias_regularizer=reg))\n",
    "    model.add(keras.layers.Dense(64, activation='relu', kernel_initializer=initializer, kernel_regularizer=reg, bias_initializer=initializer, bias_regularizer=reg))\n",
    "    model.add(keras.layers.Dense(1, activation='linear', kernel_initializer=initializer, kernel_regularizer=reg, bias_initializer=initializer, bias_regularizer=reg))\n",
    "\n",
    "    model.compile(optimizer=keras.optimizers.Adam(learning_rate=.5e-4), loss='mse', metrics=['mse', 'mae'])\n",
    "    return model"
   ]
  },
  {
   "cell_type": "code",
   "execution_count": null,
   "metadata": {},
   "outputs": [],
   "source": [
    "model = build_model((img_w, img_w, len(channels)),)\n",
    "model.summary()"
   ]
  },
  {
   "cell_type": "code",
   "execution_count": null,
   "metadata": {},
   "outputs": [],
   "source": [
    "X, Y = get_data(processed_train)\n",
    "print(X.shape)\n",
    "valid_X, valid_y = get_data(processed_valid)\n",
    "print(valid_X.shape)\n",
    "\n",
    "# with tf.device('/GPU:0'):\n",
    "# model.fit(\n",
    "#     train_ds,\n",
    "#     validation_data=valid_ds,\n",
    "#     epochs=epochs,\n",
    "#     steps_per_epoch=iter_train,\n",
    "#     validation_steps=iter_valid\n",
    "# )\n",
    "with tf.device('/GPU:0'):\n",
    "    model.fit(\n",
    "        X,\n",
    "        Y,\n",
    "        epochs=epochs,\n",
    "        validation_data=(valid_X, valid_y),\n",
    "        validation_freq=3\n",
    "    )\n",
    "\n",
    "model.save('result.h5')"
   ]
  }
 ],
 "metadata": {
  "kernelspec": {
   "display_name": "test_env",
   "language": "python",
   "name": "python3"
  },
  "language_info": {
   "codemirror_mode": {
    "name": "ipython",
    "version": 3
   },
   "file_extension": ".py",
   "mimetype": "text/x-python",
   "name": "python",
   "nbconvert_exporter": "python",
   "pygments_lexer": "ipython3",
   "version": "3.6.3"
  }
 },
 "nbformat": 4,
 "nbformat_minor": 2
}
