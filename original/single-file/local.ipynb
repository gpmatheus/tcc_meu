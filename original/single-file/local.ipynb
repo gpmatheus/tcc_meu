{
 "cells": [
  {
   "cell_type": "code",
   "execution_count": null,
   "metadata": {
    "trusted": true
   },
   "outputs": [],
   "source": [
    "import os\n",
    "import h5py\n",
    "import time\n",
    "import tensorflow as tf\n",
    "import numpy as np\n",
    "import pandas as pd\n",
    "import matplotlib.pyplot as plt\n",
    "import random\n",
    "import json\n",
    "from tensorflow import keras\n",
    "from sklearn.model_selection import train_test_split"
   ]
  },
  {
   "cell_type": "code",
   "execution_count": null,
   "metadata": {
    "trusted": true
   },
   "outputs": [],
   "source": [
    "seed = 1747265027\n",
    "# seed = int(time.time()) % (2**32 - 1)  # ou: random.randint(0, 999999)\n",
    "print(f\"Usando seed: {seed}\")\n",
    "\n",
    "os.environ['PYTHONHASHSEED'] = str(seed)\n",
    "os.environ['TF_DETERMINISTIC_OPS'] = '1'\n",
    "random.seed(seed)\n",
    "np.random.seed(seed)\n",
    "tf.random.set_seed(seed)\n",
    "tf.config.threading.set_inter_op_parallelism_threads(1)\n",
    "tf.config.threading.set_intra_op_parallelism_threads(1)"
   ]
  },
  {
   "cell_type": "code",
   "execution_count": null,
   "metadata": {
    "trusted": true
   },
   "outputs": [],
   "source": [
    "train_path, valid_path, test_path = 'train.h5', 'valid.h5', 'test.h5'\n",
    "processed_train, processed_valid, processed_test = '_train.h5', '_valid.h5', '_test.h5'\n",
    "channels = [0, 3]\n",
    "img_w = 64\n",
    "load_batch = 4096\n",
    "epochs = 500\n",
    "batch = 8"
   ]
  },
  {
   "cell_type": "code",
   "execution_count": null,
   "metadata": {
    "trusted": true
   },
   "outputs": [],
   "source": [
    "def cut_images(images, width):\n",
    "    start = images.shape[1] // 2 - width // 2\n",
    "    end = images.shape[1] // 2 + width // 2\n",
    "    return images[:, start:end, start:end, :]"
   ]
  },
  {
   "cell_type": "code",
   "execution_count": null,
   "metadata": {
    "trusted": true
   },
   "outputs": [],
   "source": [
    "def clean_images(images):\n",
    "    images = np.nan_to_num(images, copy=False)\n",
    "    images[images > 1000] = 0\n",
    "    return images"
   ]
  },
  {
   "cell_type": "code",
   "execution_count": null,
   "metadata": {
    "trusted": true
   },
   "outputs": [],
   "source": [
    "def split_data(path, train_dest, valid_dest, test_dest, channels=[0, 1, 2, 3], batch=1024):\n",
    "\n",
    "    # abre o arquivo com os dados e os arquivos de destino\n",
    "    with h5py.File(path, 'r') as srcf, \\\n",
    "            h5py.File(train_dest, 'w') as train_w, \\\n",
    "            h5py.File(valid_dest, 'w') as valid_w, \\\n",
    "            h5py.File(test_dest, 'w') as test_w:\n",
    "        \n",
    "        images = srcf['matrix']\n",
    "        info = pd.read_hdf(path, key='info', mode='r')\n",
    "\n",
    "        # recupera o tamanho dos dados\n",
    "        data_len = info.shape[0]\n",
    "\n",
    "        # itera sobre todos os dados em chuncks\n",
    "        for chunck in range(0, data_len, batch):\n",
    "            # seleciona o chunck\n",
    "            chunck_slc = slice(chunck, chunck + batch if chunck + batch < data_len else data_len)\n",
    "\n",
    "            # lê os dados do chunck\n",
    "            img_chunck = images[chunck_slc]\n",
    "            info_chunck = info[chunck_slc]\n",
    "            info_chunck = info_chunck['Vmax']\n",
    "\n",
    "            # seleciona os canais\n",
    "            img_chunck = img_chunck[:, :, :, channels]\n",
    "            \n",
    "            img_new_shape = img_chunck.shape[1:]\n",
    "\n",
    "            # separa os dados\n",
    "            train_img, test_img, train_info, test_info = train_test_split(img_chunck, info_chunck, test_size=.3, random_state=seed)\n",
    "            test_img, valid_img, test_info, valid_info = train_test_split(test_img, test_info, test_size=.5, random_state=seed)\n",
    "\n",
    "            # escreve no arquivo de treinamento\n",
    "            if 'matrix' not in train_w:\n",
    "                train_w.create_dataset('matrix', shape=(0,) + img_new_shape, maxshape=(None,) + img_new_shape)\n",
    "            train_w['matrix'].resize(train_w['matrix'].shape[0] + train_img.shape[0], axis=0)\n",
    "            train_w['matrix'][-train_img.shape[0]:] = train_img\n",
    "            if 'info' not in train_w:\n",
    "                train_w.create_dataset('info', shape=(0,), maxshape=(None,))\n",
    "            train_w['info'].resize(train_w['info'].shape[0] + train_info.shape[0], axis=0)\n",
    "            train_w['info'][-train_info.shape[0]:] = train_info\n",
    "\n",
    "            # escreve no arquivo de validação\n",
    "            if 'matrix' not in valid_w:\n",
    "                valid_w.create_dataset('matrix', shape=(0,) + img_new_shape, maxshape=(None,) + img_new_shape)\n",
    "            valid_w['matrix'].resize(valid_w['matrix'].shape[0] + valid_img.shape[0], axis=0)\n",
    "            valid_w['matrix'][-valid_img.shape[0]:] = valid_img\n",
    "            if 'info' not in valid_w:\n",
    "                valid_w.create_dataset('info', shape=(0,), maxshape=(None,))\n",
    "            valid_w['info'].resize(valid_w['info'].shape[0] + valid_info.shape[0], axis=0)\n",
    "            valid_w['info'][-valid_info.shape[0]:] = valid_info\n",
    "\n",
    "            # escreve no arquivo de teste\n",
    "            if 'matrix' not in test_w:\n",
    "                test_w.create_dataset('matrix', shape=(0,) + img_new_shape, maxshape=(None,) + img_new_shape)\n",
    "            test_w['matrix'].resize(test_w['matrix'].shape[0] + test_img.shape[0], axis=0)\n",
    "            test_w['matrix'][-test_img.shape[0]:] = test_img\n",
    "            if 'info' not in test_w:\n",
    "                test_w.create_dataset('info', shape=(0,), maxshape=(None,))\n",
    "            test_w['info'].resize(test_w['info'].shape[0] + test_info.shape[0], axis=0)\n",
    "            test_w['info'][-test_info.shape[0]:] = test_info\n",
    "\n",
    "ds = 'TCIR-ATLN_EPAC_WPAC.h5'\n",
    "split_data(f'../data/{ds}', train_path, valid_path, test_path, channels=channels, batch=load_batch)"
   ]
  },
  {
   "cell_type": "code",
   "execution_count": null,
   "metadata": {
    "trusted": true
   },
   "outputs": [],
   "source": [
    "with h5py.File(train_path, mode='r') as trainsrc, h5py.File(valid_path, mode='r') as validsrc :\n",
    "    data_len = trainsrc['matrix'].shape[0]\n",
    "    valid_data_len = validsrc['matrix'].shape[0]\n",
    "    print('Dataset de treino: ', trainsrc['matrix'].shape)\n",
    "    print('Dataset de validação: ', validsrc['matrix'].shape)\n",
    "\n",
    "iter_train = data_len // batch\n",
    "iter_valid = valid_data_len // batch"
   ]
  },
  {
   "cell_type": "code",
   "execution_count": null,
   "metadata": {
    "trusted": true
   },
   "outputs": [],
   "source": [
    "def get_mean(file, batch=1024, width=64):\n",
    "    with h5py.File(file, mode='r') as src:\n",
    "        images = src['matrix']\n",
    "        data_len = images.shape[0]\n",
    "        accumulators = np.zeros(images.shape[-1])\n",
    "        for i in range(0, data_len, batch):\n",
    "            start = images.shape[1] // 2 - width // 2\n",
    "            end = images.shape[1] // 2 + width // 2\n",
    "            slc = slice(start, end)\n",
    "            chunck = images[i: i + batch if i + batch < data_len else data_len, slc, slc]\n",
    "            chunck = clean_images(chunck)\n",
    "            for j in range(accumulators.shape[0]):\n",
    "                accumulators[j] += np.sum(chunck[:, :, :, j])\n",
    "    means = accumulators / (data_len * width * width)\n",
    "    return means\n",
    "\n",
    "mean = get_mean(train_path, batch=load_batch, width=img_w)\n",
    "print(mean)"
   ]
  },
  {
   "cell_type": "code",
   "execution_count": null,
   "metadata": {
    "trusted": true
   },
   "outputs": [],
   "source": [
    "def get_std(file, mean, batch=1024, width=64):\n",
    "    with h5py.File(file, mode='r') as src:\n",
    "        images = src['matrix']\n",
    "        data_len = images.shape[0]\n",
    "        accumulators = np.zeros(images.shape[-1])\n",
    "        for i in range(0, data_len, batch):\n",
    "            start = images.shape[1] // 2 - width // 2\n",
    "            end = images.shape[1] // 2 + width // 2\n",
    "            slc = slice(start, end)\n",
    "            chunck = images[i: i + batch if i + batch < data_len else data_len, slc, slc]\n",
    "            chunck = clean_images(chunck)\n",
    "            for j in range(accumulators.shape[0]):\n",
    "                accumulators[j] += np.sum((chunck[:, :, :, j] - mean[j]) ** 2)\n",
    "    stds = accumulators / (data_len * width * width)\n",
    "    stds = np.sqrt(stds)\n",
    "    return stds\n",
    "\n",
    "std = get_std(train_path, mean, batch=load_batch, width=img_w)\n",
    "print(std)"
   ]
  },
  {
   "cell_type": "code",
   "execution_count": null,
   "metadata": {
    "trusted": true
   },
   "outputs": [],
   "source": [
    "\n",
    "def pre_process(file, dest, width, means, stds, batch=1024):\n",
    "    # corta imagem grande o suficiente para poder rotacionar\n",
    "    rotation_width = int(np.ceil(np.sqrt((width ** 2) * 2)))\n",
    "    if rotation_width % 2 != 0:\n",
    "        rotation_width += 1\n",
    "    with h5py.File(file, mode='r') as src, h5py.File(dest, mode='w') as destf:\n",
    "        src_imgs = src['matrix']\n",
    "        data_len = src_imgs.shape[0]\n",
    "        for i in range(0, data_len, batch):\n",
    "            slc = slice(i, i + batch if i + batch < data_len else data_len)\n",
    "            img_chunck = src_imgs[slc]\n",
    "            \n",
    "            img_chunck = cut_images(img_chunck, rotation_width)\n",
    "            img_chunck = clean_images(img_chunck)\n",
    "            for j, (m, s) in enumerate(zip(means, stds)):\n",
    "                img_chunck[:, :, :, j] -= m\n",
    "                img_chunck[:, :, :, j] /= s\n",
    "            \n",
    "            img_new_shape = img_chunck.shape[1:]\n",
    "            # escreve no arquivo novo\n",
    "            if 'matrix' not in destf:\n",
    "                destf.create_dataset('matrix', shape=(0,) + img_new_shape, maxshape=(None,) + img_new_shape)\n",
    "            destf['matrix'].resize(destf['matrix'].shape[0] + img_chunck.shape[0], axis=0)\n",
    "            destf['matrix'][-img_chunck.shape[0]:] = img_chunck\n",
    "\n",
    "            info_chunck = src['info'][slc]\n",
    "            if 'info' not in destf:\n",
    "                destf.create_dataset('info', shape=(0,), maxshape=(None,))\n",
    "            destf['info'].resize(destf['info'].shape[0] + info_chunck.shape[0], axis=0)\n",
    "            destf['info'][-info_chunck.shape[0]:] = info_chunck\n",
    "\n",
    "\n",
    "import os\n",
    "pre_process(train_path, processed_train, img_w, mean, std, batch=load_batch)\n",
    "os.remove(train_path)\n",
    "\n",
    "pre_process(valid_path, processed_valid, img_w, mean, std, batch=load_batch)\n",
    "os.remove(valid_path)\n",
    "\n",
    "pre_process(test_path, processed_test, img_w, mean, std, batch=load_batch)\n",
    "os.remove(test_path)\n"
   ]
  },
  {
   "cell_type": "code",
   "execution_count": null,
   "metadata": {
    "trusted": true
   },
   "outputs": [],
   "source": [
    "def parse_example(image, label):\n",
    "    image = tf.cast(image, tf.float32)\n",
    "    image = preprocess_image_tf(image)\n",
    "    return image, label\n",
    "\n",
    "def preprocess_image_tf(image):\n",
    "    angle_rad = tf.random.uniform([], 0, 2 * np.pi)\n",
    "    image_shape = tf.shape(image)[0:2]\n",
    "    cx = tf.cast(image_shape[1] / 2, tf.float32)\n",
    "    cy = tf.cast(image_shape[0] / 2, tf.float32)\n",
    "    cos_a = tf.math.cos(angle_rad)\n",
    "    sin_a = tf.math.sin(angle_rad)\n",
    "    transform = tf.stack([\n",
    "        cos_a, -sin_a, (1 - cos_a) * cx + sin_a * cy,\n",
    "        sin_a,  cos_a, (1 - cos_a) * cy - sin_a * cx,\n",
    "        0.0,    0.0\n",
    "    ])\n",
    "    transform = tf.reshape(transform, [8])\n",
    "    transform = tf.expand_dims(transform, 0)\n",
    "    image = tf.expand_dims(image, 0)\n",
    "    rotated = tf.raw_ops.ImageProjectiveTransformV3(\n",
    "        images=image,\n",
    "        transforms=transform,\n",
    "        output_shape=image_shape,\n",
    "        interpolation=\"BILINEAR\",\n",
    "        fill_mode=\"REFLECT\",\n",
    "        fill_value=0.0\n",
    "    )\n",
    "    rotated = tf.squeeze(rotated, 0)\n",
    "    return tf.image.resize_with_crop_or_pad(rotated, img_w, img_w)\n",
    "\n",
    "def load_dataset(file, batch_size):\n",
    "    with h5py.File(file, 'r') as f:\n",
    "        images = f['matrix'][:]\n",
    "        labels = f['info'][:]\n",
    "\n",
    "    dataset = tf.data.Dataset.from_tensor_slices((images, labels))\n",
    "    dataset = dataset.repeat()\n",
    "    dataset = dataset.shuffle(buffer_size=len(images))\n",
    "    dataset = dataset.map(parse_example, num_parallel_calls=tf.data.AUTOTUNE)\n",
    "    dataset = dataset.batch(batch_size)\n",
    "    dataset = dataset.prefetch(tf.data.AUTOTUNE)\n",
    "    return dataset\n"
   ]
  },
  {
   "cell_type": "code",
   "execution_count": null,
   "metadata": {
    "trusted": true
   },
   "outputs": [],
   "source": [
    "def get_data(file):\n",
    "    with h5py.File(file, mode='r') as src:\n",
    "        images = src['matrix'][:]\n",
    "        info = src['info'][:]\n",
    "        images = cut_images(images, img_w)\n",
    "        return tf.constant(images), tf.constant(info)"
   ]
  },
  {
   "cell_type": "code",
   "execution_count": null,
   "metadata": {
    "trusted": true
   },
   "outputs": [],
   "source": [
    "train_ds = load_dataset(processed_train, batch)\n",
    "valid_ds = get_data(processed_valid)"
   ]
  },
  {
   "cell_type": "code",
   "execution_count": null,
   "metadata": {
    "trusted": true
   },
   "outputs": [],
   "source": [
    "\n",
    "def build_model(input_shape, strides=(2, 2)):\n",
    "    initializer = keras.initializers.RandomNormal(mean=0.0, stddev=0.01)\n",
    "    reg = keras.regularizers.L2(1e-5)\n",
    "    model = keras.models.Sequential()\n",
    "    model.add(keras.layers.Input(input_shape))\n",
    "    model.add(keras.layers.Conv2D(16, (4, 4), strides=strides, activation='relu', kernel_initializer=initializer, kernel_regularizer=reg, bias_initializer=initializer, bias_regularizer=reg))\n",
    "    model.add(keras.layers.Conv2D(32, (3, 3), strides=strides, activation='relu', kernel_initializer=initializer, kernel_regularizer=reg, bias_initializer=initializer, bias_regularizer=reg))\n",
    "    model.add(keras.layers.Conv2D(64, (3, 3), strides=strides, activation='relu', kernel_initializer=initializer, kernel_regularizer=reg, bias_initializer=initializer, bias_regularizer=reg))\n",
    "    model.add(keras.layers.Conv2D(128, (3, 3), strides=strides, activation='relu', kernel_initializer=initializer, kernel_regularizer=reg, bias_initializer=initializer, bias_regularizer=reg))\n",
    "    \n",
    "    model.add(keras.layers.Flatten())\n",
    "    \n",
    "    model.add(keras.layers.Dense(256, activation='relu', kernel_initializer=initializer, kernel_regularizer=reg, bias_initializer=initializer, bias_regularizer=reg))\n",
    "    model.add(keras.layers.Dense(64, activation='relu', kernel_initializer=initializer, kernel_regularizer=reg, bias_initializer=initializer, bias_regularizer=reg))\n",
    "    model.add(keras.layers.Dense(1, activation='linear', kernel_initializer=initializer, kernel_regularizer=reg, bias_initializer=initializer, bias_regularizer=reg))\n",
    "\n",
    "    model.compile(optimizer=keras.optimizers.Adam(learning_rate=.5e-4), loss='mse', metrics=['mse'])\n",
    "    return model"
   ]
  },
  {
   "cell_type": "code",
   "execution_count": null,
   "metadata": {
    "trusted": true
   },
   "outputs": [],
   "source": [
    "def training_number():\n",
    "    counter = 0\n",
    "    while True:\n",
    "        yield counter\n",
    "        counter += 1\n",
    "\n",
    "training_n_gen = training_number()"
   ]
  },
  {
   "cell_type": "code",
   "execution_count": null,
   "metadata": {
    "trusted": true
   },
   "outputs": [],
   "source": [
    "training_n = next(training_n_gen)\n",
    "\n",
    "model = build_model((img_w, img_w, len(channels)),)\n",
    "model.summary()\n",
    "\n",
    "best_model_path = 'best_model.keras'\n",
    "callback = tf.keras.callbacks.ModelCheckpoint(filepath=best_model_path,\n",
    "                           monitor='val_loss',\n",
    "                           verbose=0,\n",
    "                           save_best_only=True,\n",
    "                           mode='min')\n",
    "\n",
    "with tf.device('/GPU:0'):\n",
    "    history = model.fit(\n",
    "        train_ds,\n",
    "        validation_data=valid_ds,\n",
    "        epochs=epochs,\n",
    "        steps_per_epoch=iter_train,\n",
    "        validation_steps=iter_valid,\n",
    "        callbacks=[callback],\n",
    "    )\n",
    "\n",
    "model_info_dict = {\n",
    "    \"seed\": seed,\n",
    "    \"shape\": [\n",
    "        img_w,\n",
    "        img_w,\n",
    "        len(channels)\n",
    "    ],\n",
    "    \"channels\": channels,\n",
    "    \"dataset\": ds,\n",
    "    \"batch\": batch,\n",
    "     \"normparams\": [{\"mean\": mean[i], \"std\": std[i]} for i in range(len(channels))],\n",
    "    \"validmse\": list(history['val_loss']),\n",
    "    \"trainingmse\": list(history['loss'])\n",
    "}\n",
    "\n",
    "json_info = json.dumps(model_info_dict, indent=4)\n",
    "with open(f'n{training_n}-model_info.json', 'w') as outfile:\n",
    "    outfile.write(json_info)"
   ]
  }
 ],
 "metadata": {
  "kaggle": {
   "accelerator": "gpu",
   "dataSources": [
    {
     "datasetId": 7224465,
     "sourceId": 11519293,
     "sourceType": "datasetVersion"
    },
    {
     "datasetId": 7339781,
     "sourceId": 11694029,
     "sourceType": "datasetVersion"
    },
    {
     "datasetId": 7379404,
     "sourceId": 11754607,
     "sourceType": "datasetVersion"
    }
   ],
   "dockerImageVersionId": 31011,
   "isGpuEnabled": true,
   "isInternetEnabled": true,
   "language": "python",
   "sourceType": "notebook"
  },
  "kernelspec": {
   "display_name": "tcc_env",
   "language": "python",
   "name": "python3"
  },
  "language_info": {
   "codemirror_mode": {
    "name": "ipython",
    "version": 3
   },
   "file_extension": ".py",
   "mimetype": "text/x-python",
   "name": "python",
   "nbconvert_exporter": "python",
   "pygments_lexer": "ipython3",
   "version": "3.9.20"
  }
 },
 "nbformat": 4,
 "nbformat_minor": 4
}
